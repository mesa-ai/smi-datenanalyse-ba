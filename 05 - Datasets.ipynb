{
 "cells": [
  {
   "cell_type": "markdown",
   "metadata": {},
   "source": [
    "<div>\n",
    "    <img style=\"float:right;\" src=\"images/smi-logo.png\"/>\n",
    "    <div style=\"float:left;color:#58288C;\"><h1>Datenanalyse und Datenmanagement</h1></div>\n",
    "</div>"
   ]
  },
  {
   "cell_type": "markdown",
   "metadata": {},
   "source": [
    "---\n",
    "# Notebook V: Datasets\n",
    "In diesem Notebook werden mehrere Data Analytics Problemstellungen mit zugehörigen Datensätzen vorgesetellt.\n",
    "\n",
    "\n",
    "## Aufgabenstellung \n",
    "Zu einem dieser Datensätze sind folgende Aufgaben zu bearbeiten. Es ist empfehlenswert, das Notebook entlang dieser Aufgaben zu gliedern. Hinweise zu Bewertungskriterien und Abgabeformalia sind der jeweiligen Seminarunterlage und dem Anschreiben des Prüfungsmanagements zu entnehmen.\n",
    "\n",
    "1. Formuliere das Research Problem präzise\n",
    "2. Lies die Daten aus der Datenbank ein und bereite ein DataFrame für die Analyse vor\n",
    "3. Datenexploration  \n",
    "    3.1. Untersuche die Merkmale einzeln mit deskriptiver Statistik und geeigneten Visualisierungen  \n",
    "    3.2. Ordne deine Untersuchungsergebnisse, sodass ein \"roter Faden\" entsteht\n",
    "    3.3. Untersuche Zusammenhänge zwischen den Merkmalen mit Kreuztabellen oder Scatterplots\n",
    "8. Formuliere als Hypothese, welche 2-3 zentralen Zusammenhänge ein Entscheidungsbaum identifizieren müsste\n",
    "9. Erläutere in 3-4 Sätzen mögliche Probleme beim Einsatz eines Entscheidungsbaummodells längerfristig auftreten könnten.  \n",
    "   _Beispiele: Ist mit stabiler Modellgüte über die Zeit zu rechnen? Könnten Saisonaleffekte (z.B. Weihnachten) zu Störungen führen? Ist zu Störungen zu rechnen, wenn zukünftig andere Zielkunden analysiert werden (z.B. jüngere Zielgruppen, Geschäftskunden, ...)_\n",
    "\n",
    "## Datensätze\n",
    "\n",
    "Dazu stehen folgende Datensätze zur Auswahl, die nachfolgend vorgestellt werden. \n",
    "\n",
    "> 1. [Zielgruppentargeting](#dataset1)\n",
    "> 2. [Kündigungsprävention Telco / Deutschland](#dataset2)\n",
    "> 3. [Kündigungsprävention Telco / Asien](#dataset3)\n",
    "> 4. [Kundenaktivierung Audiobook-App](#dataset4)\n",
    "> 5. [Kündigungsprävention Zeitungsverlag](#dataset5)\n",
    "> 6. [Bewertung Kundenstamm Retail Banking](#dataset6)\n",
    "> 7. [Immobilienbewertung](#dataset7)\n",
    "\n",
    "Sie befinden sich in der SQLite Datenbank ```exercises.db```, die noch im ZIP-Format komprimiert ist.\n",
    "Um direkt einen Einblick in den Aufbau zu erhalten, entpacken wir die Datenbank zunächst und stellen eine Verbindung her."
   ]
  },
  {
   "cell_type": "code",
   "execution_count": null,
   "metadata": {},
   "outputs": [],
   "source": [
    "!unzip -o -d data data/exercises.zip\n",
    "%load_ext sql\n",
    "%sql sqlite:///data/exercises.db"
   ]
  },
  {
   "cell_type": "markdown",
   "metadata": {},
   "source": [
    "---\n",
    "### 1. Zielgruppentargeting <a id=\"dataset1\"/>\n",
    "\n",
    "#### Hintergrund\n",
    "Im Marketing wird eine Promotion-Kampagne entwickelt. Die Zielgruppe kann aus einem Kundenstamm von 6400 Kunden rekrutiert werden.\n",
    "\n",
    "#### Business Problem\n",
    "Da die Stückkosten der Kampagne zur Aussendung erheblich sind, sollen die Streuverluste (Anteil non-responder) durch intelligentes Targeting (= Zielgruppenauswahl) minimiert werden.\n",
    "\n",
    "#### Datengrundlage\n",
    "\n",
    "- Kundenprofil: Wohnumgebung (zip_code), kommt er/sie aus \"kunden-werben-kunden\" (is_referral), Kontaktpräferenz (channel)\n",
    "- Transaktionshistorie: wie lange ist die letzte Transaktion her (recency) und Kundenumsatz (history)\n",
    "- Wurden Discount-Angebote oder BOGO-Angebote (Buy One Get One Free) früher ausgesprochen?\n",
    "- Welche Kampagne war zuletzt aktiv / welches Angebot wurde zuletzt gemacht (offer)?\n",
    "- Hat der Kunde das Angebot angenommen (conversion)?\n",
    "\n",
    "#### Datenauszug"
   ]
  },
  {
   "cell_type": "code",
   "execution_count": null,
   "metadata": {},
   "outputs": [],
   "source": [
    "%sql SELECT * FROM targeting LIMIT 5"
   ]
  },
  {
   "cell_type": "markdown",
   "metadata": {},
   "source": [
    "---\n",
    "### 2. Kündigungsprävention Telco / Deutschland <a id=\"dataset2\"/>\n",
    "\n",
    "#### Hintergrund\n",
    "\n",
    "Das CRM-Team eines Telekommunikationsunternehmens entwickelt eine Kampagne zur Kündigungsprävention bei Privatkunden. Um sie an das Unternehmen zu binden, sollen Gratismonate und Rabatte gegen Abschluss einer Vertragsverlängerung angeboten werden.\n",
    "\n",
    "#### Business Problem\n",
    "\n",
    "Damit die Kampagne wirtschaftlich erfolgreich sein kann, ist es erforderlich, nur Kunden mit hohem Kündigungsrisiko anzusprechen. Andernfalls würde die Kampagne unnötige Rabatte vergeben und direkt entgangene Umsätze zur Folge haben.\n",
    "\n",
    "#### Datengrundlage\n",
    "\n",
    "Der Datensatz umfass folgende Informationen:\n",
    "- Customers who left within the last month – the column is called Churn\n",
    "- Services that each customer has signed up for – phone, multiple lines, internet, online security, online backup, device protection, tech support, and streaming TV and movies\n",
    "- Customer account information – how long they’ve been a customer, contract, payment method, paperless billing, monthly charges, and total charges\n",
    "-Demographic info about customers – gender, age range, and if they have partners and dependents\n",
    "\n",
    "#### Datenauszug"
   ]
  },
  {
   "cell_type": "code",
   "execution_count": null,
   "metadata": {},
   "outputs": [],
   "source": [
    "%sql SELECT * FROM telco_churn_ger LIMIT 5"
   ]
  },
  {
   "cell_type": "markdown",
   "metadata": {},
   "source": [
    "---\n",
    "### 3. Kündigungsprävention Telco / Asien <a id=\"dataset3\"/>\n",
    "\n",
    "#### Hintergrund\n",
    "\n",
    "Das CRM-Team eines Telekommunikationsunternehmens entwickelt eine Kampagne zur Kündigungsprävention bei Privatkunden. Um sie an das Unternehmen zu binden, sollen Gratismonate und Rabatte gegen Abschluss einer Vertragsverlängerung angeboten werden.\n",
    "\n",
    "#### Business Problem\n",
    "\n",
    "Damit die Kampagne wirtschaftlich erfolgreich sein kann, ist es erforderlich, nur Kunden mit hohem Kündigungsrisiko anzusprechen. Andernfalls würde die Kampagne unnötige Rabatte vergeben und direkt entgangene Umsätze zur Folge haben.\n",
    "\n",
    "#### Datengrundlage\n",
    "\n",
    "Der Datensatz umfasst folgende Merkmale:\n",
    "\n",
    "- Aggregate of Total Revenue: The overall monthly revenue earned in Rupees by the carrier in the months August & September 2015.\n",
    "- Aggregate of SMS Revenue: The revenue earned through the SMS service used by the subscriber.\n",
    "- Aggregate of Data Revenue: The revenue earned through the Data service used by the subscriber.\n",
    "- Aggregate of Off Net Revenue: The revenue earned by the calls etc. made to the off-network (not the same network as the subscriber) customers by the carrier’s -present subscriber.\n",
    "- Aggregate of On Net Revenue: The revenue earned by the calls etc. made to the on-network (on the same network as the subscriber) customers by the carrier’s present subscriber.\n",
    "- Network Age: The time passed since the subscriber started using the services of the carrier.\n",
    "- User Type: This detail helps in knowing if the user is subscribed to a 2G or 3G service.\n",
    "- Aggregate of Complaint Count: The number of complaints made by the subscribers.\n",
    "- Favorite Other Network: This information can certainly have a huge impact on churn ratio as it gives the information about which other network or operator the subscribers makes the most of the calls to and thus might influence the customer to move to that network to save money.\n",
    "- Aggregate of Data Volume: The volume of the data service used by the subscriber.\n",
    "- Class: Did the customer churn or remain active.\n",
    "\n",
    "\n",
    "#### Datenauszug"
   ]
  },
  {
   "cell_type": "code",
   "execution_count": null,
   "metadata": {},
   "outputs": [],
   "source": [
    "%sql SELECT * FROM telco_churn_asia LIMIT 5"
   ]
  },
  {
   "cell_type": "markdown",
   "metadata": {},
   "source": [
    "---\n",
    "### 4. Kundenaktivierung Audiobook-App <a id=\"dataset4\"/>\n",
    "\n",
    "#### Hintergrund\n",
    "\n",
    "Die Subscriptions einer Audiobook-App sind unter Druck, zahlreiche Kunden hören auf die App zu nutzen und kaufen keine weiteren Bücher. Im CRM sind zahlreiche Informationen zur App-Nutzung pro Kunde zusammengeführt. Auf der Basis möchte das Management genauer verstehen, was vor sich geht.\n",
    "\n",
    "#### Business Problem\n",
    "\n",
    "Um Anhaltspunkte für mögliche Maßnahmen zu erhalten, es es erforderlich im Rückblick zu verstehen, welche Kunden in den letzten sechs Monaten gekündigt haben. Mit diesem Input sollen in Kreativworkshops Maßnahmen für Risikokunden im Kundenbestand entwickelt werden. Die Zielgruppe für diese Maßnahmen ist ebenso zu ermitteln.\n",
    "\n",
    "#### Datengrundlage\n",
    "\n",
    "- Book_length(mins)_overall: is the sum of the lengths of purchases.\n",
    "- Book_length(mins)_avg: is the sum of the lengths of purchases divided by the number of purchases. Notice we don't need the number of purchases column because we ca get it from Book_length(mins)_overall / Book_length(mins)_avg.\n",
    "- Price_overall & Price_avg: Same as Book length, the price variable is almost always a good predictor.\n",
    "- Review: is boolean. It shows if the customer left a review. If so, Review10/10 saves the review left by the user. While most users don't left a review we fill the missing reviews by avrage review column.\n",
    "- Minutes_listened: is a measure of engagement, the total of minutes the user listen to audiobooks.\n",
    "- Completion: is the Minutes_listened / Book_length(mins)_overall.\n",
    "- Support_Request: Shows the total number of support request (forgotten password to assistance).\n",
    "- Last_Visited_mins_Purchase_date: the bigger the difference, the bigger sooner the engagement. If the value is 0, we are sure the customer has never accessed what he/she has bought.\n",
    "- The data was gathered from the audiobook app, the input data represents 2 years worth of engagement. We are doing supervised learning so we need target. We took extra 6 month to check if the user converted or not. 1 if the customer buys in the next 6 months, 0 if the customer didn't.\n",
    "- target: 1 if the customer bought again in the last 6 months of data. 0 if the customer did not buy again.\n",
    "\n",
    "#### Datenauszug"
   ]
  },
  {
   "cell_type": "code",
   "execution_count": null,
   "metadata": {},
   "outputs": [],
   "source": [
    "%sql SELECT * FROM audiobook_churn LIMIT 5"
   ]
  },
  {
   "cell_type": "markdown",
   "metadata": {},
   "source": [
    "---\n",
    "### 5. Kündigungsprävention Zeitungsverlag <a id=\"dataset5\"/>\n",
    "\n",
    "#### Hintergrund\n",
    "Die Printbranche ist seit Jahrzehnten in der Krise und neben immer neuen Digitalangeboten ist ein möglichst effizientes Bestandskundenmanagement überlebensnotwendig. Analog zu Fitnessstudios gibt es zahlreiche \"Schläfer\" - Kunden, die das Produkt wenig nutzen, aber trotzdem Abonnent bleiben. In einer letzten telefonischen Bestandskundenkampagne wurden mehr Kündigungen ausgelöst als Upsell.\n",
    "\n",
    "#### Business Problem\n",
    "Bei der Planung zukünftiger Marketingkampagnen ist es unerlässlich, \"Schläferkunden\" im schwindenden Abonnentenbestand nicht aufzuschrecken und durch ungünstige Kontakte zum Kündigen zu bewegen. \n",
    "\n",
    "#### Datengrundlage\n",
    "\n",
    "Der Datensatz enthält \n",
    "- demographische Daten zum Abonnenten, \n",
    "- zu wöchentlichen Zahlungen, \n",
    "- dem Zustellrhythmus, \n",
    "- zugekauften Daten zum Regionentyp von Nielsen ([Prizm](https://en.wikipedia.org/wiki/Claritas_Prizm)), \n",
    "- dem Kanal den das Abo abgeschlossen wurde sowie\n",
    "- die Information, ob der Kunde heute noch Abonnent ist.\n",
    "\n",
    "#### Datenauszug"
   ]
  },
  {
   "cell_type": "code",
   "execution_count": null,
   "metadata": {},
   "outputs": [],
   "source": [
    "%sql SELECT * FROM newspaper_churn LIMIT 5"
   ]
  },
  {
   "cell_type": "markdown",
   "metadata": {},
   "source": [
    "---\n",
    "### 6. Bewertung Kundenstamm Retail Banking <a id=\"dataset6\"/>\n",
    "\n",
    "#### Hintergrund\n",
    "\n",
    "Das Privatkundengeschäft einer Bank soll im Zuge einer strategischen Neuausrichtung verkauft werden. Neben dem Filial- und Geldautomatennetz ist der Kundenstamm das wesentliche Asset.\n",
    "\n",
    "#### Business Problem\n",
    "\n",
    "Da das Privatkundengeschäft zuletzt vernachlässigt wurde, haben viele Kunden trotz der hohen Wechselbarrieren (Aufwand des Kontoumzugs) die Bank verlassen. Zur Bewertung des Kundenbestands ist ein ausführliches Verständnis über dessen Zusammensetzung erforderlich. Daneben muss die Bank das Kündigungsverhalten erklären: Wieviele und welche Kunden lösen ihr Konto auf? Verliert die Bank Topkunden gemessen an Einkommen und Kreditwürdigkeit? Welche Kunden im verbleibenden Kundenbestand sind als potenzielle Kündiger anzusehen?\n",
    "\n",
    "#### Datengrundlage\n",
    "\n",
    "Der Datensatz enthält\n",
    "- demographische Informationen zum Kunden\n",
    "- Dauer des Kundenverhältnisses (tenure)\n",
    "- Kontostand (balance)\n",
    "- Anzahl der bezogenen Produkte (z.B. Altersvorsorge, Versicherungen, Bausparvertrag, ...)\n",
    "- Mitglied im Loyalty-Programm (IsActiveMember)\n",
    "- Aus Überweisungsdaten geschätztes Gehalt (EstimatedSalary)\n",
    "- Kontoauflösung in den letzten 12 Monaten (Exited)\n",
    "\n",
    "#### Datenauszug"
   ]
  },
  {
   "cell_type": "code",
   "execution_count": null,
   "metadata": {},
   "outputs": [],
   "source": [
    "%sql SELECT * FROM bank_churn LIMIT 5"
   ]
  },
  {
   "cell_type": "markdown",
   "metadata": {},
   "source": [
    "---\n",
    "### 7. Immobilienberwertung <a id=\"dataset7\"/>\n",
    "\n",
    "#### Hintergrund\n",
    "\n",
    "Ein internationaler Immobilienentwickler möchte auf dem deutschen Markt Fuß fassen und plant den Markteintritt durch erste Grundstücks- und Bestandsimmobilienkäufe. Parallel werden mit Architekten Neubauten und Altbausanierungen konkret geplant.\n",
    "\n",
    "#### Business Problem\n",
    "\n",
    "Für einen erfolgreichen Markteintritt ist ein genaues Verständnis gefragter Lagen, Grundrisse und Ausstattungsmerkmale erforderlich. Als gefragt kann eine Lage/Merkmal vereinfacht gelten, wenn die Mietkosten über dem Median liegen. Inbesondere relevant ist die Raumanzahl, Wohnfläche und Ausstattung wie Heizungstyp, Küche, Balkon etc. Diese Merkmale sollten zwischen Stadt und Land unterschieden werden - näherungsweise genügt hier die Unterscheidung zwischen einer Lage in deutschen Großstädten (>500.000 Einwohner) und dem Rest (vgl. hierzu [Wikipedia](https://de.wikipedia.org/wiki/Liste_der_Großstädte_in_Deutschland#Tabelle)).\n",
    "\n",
    "Das Architekturbüro wird daraufhin Excellisten mit geplanten Wohneinheiten anfertigen - zur Validierung müssen wir wissen, mit wie hohen Mieteinnahmen zu rechnen sein wird.\n",
    "\n",
    "#### Datengrundlage\n",
    "\n",
    "Der Datensatz enthält angebotene Mietobjekte in ganz Deutschland:\n",
    "- Regionalinformation\n",
    "- Warmmiete (obj_totalRent), Kaltmiete (obj_baseRent), Nebenkosten (obj_serviceCharge) und Heizkosten (heatingCost)\n",
    "- Informationen zur Heizung (heatingType), Neubau (newlyConst), Baujahr (yearConstructed)\n",
    "- Anzahl Räume (noRomms), Stockwerk (obj_floor), Anzahl Stockwerke (numberOfFloors), Wohnfläche (livingSpace), Art der Wohnung (typeOfFlat)\n",
    "- Niveau der Ausstattung (obj_interiorQual), Zustand (obj_condition) und Jahr der letzten Renovierung (lastRefurbish)\n",
    "- Haustiererlaubnis (petsAllowed)\n",
    "- Vorhandensein von Parkplätzen, Küche, Keller, Balkon, Garten, Aufzug...\n",
    "- Handelt es sich um betreutes Wohnen (assistedLiving), ist das Objekt behindertengerecht (barrierFree)\n",
    "- Anzahl der Bilder im Inserat\n",
    "- Maximal mögliche Internetanbindung\n",
    "\n",
    "#### Datenauszug"
   ]
  },
  {
   "cell_type": "code",
   "execution_count": null,
   "metadata": {},
   "outputs": [],
   "source": [
    "%sql SELECT * FROM housing_ger LIMIT 5"
   ]
  },
  {
   "cell_type": "code",
   "execution_count": null,
   "metadata": {},
   "outputs": [],
   "source": []
  }
 ],
 "metadata": {
  "kernelspec": {
   "display_name": "Python 3",
   "language": "python",
   "name": "python3"
  },
  "language_info": {
   "codemirror_mode": {
    "name": "ipython",
    "version": 3
   },
   "file_extension": ".py",
   "mimetype": "text/x-python",
   "name": "python",
   "nbconvert_exporter": "python",
   "pygments_lexer": "ipython3",
   "version": "3.7.4"
  }
 },
 "nbformat": 4,
 "nbformat_minor": 4
}
